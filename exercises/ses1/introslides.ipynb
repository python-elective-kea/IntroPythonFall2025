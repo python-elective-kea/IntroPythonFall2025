{
 "cells": [
  {
   "cell_type": "markdown",
   "metadata": {
    "slideshow": {
     "slide_type": "slide"
    }
   },
   "source": [
    "# Introduktion til Python\n",
    "### med Langchain, Numpy, Pandas og Matplotlib"
   ]
  },
  {
   "cell_type": "markdown",
   "metadata": {
    "slideshow": {
     "slide_type": "slide"
    }
   },
   "source": [
    "## Claus Bové \n",
    "\n",
    "* Udannet på CBS/ITU i år 2010\n",
    "* Uddannet på Musikkoservatoriet i år 1998\n",
    "\n",
    "Underviser\n",
    "* Python\n",
    "* Teknologi 1\n",
    "* Teknologi 2\n",
    "* Softwarearkitektur på ITA\n",
    "* Statens IT"
   ]
  },
  {
   "cell_type": "markdown",
   "metadata": {
    "slideshow": {
     "slide_type": "slide"
    }
   },
   "source": [
    "## Om dette valgfag\n",
    "\n",
    "Målet med dette valgfag er at gøre dig i stand til at varetage jobfunktioner hvor python indgår som programmeringssprog. Du vil lære at bruge såvel basale som avancerede elementer af sproget og du vil lære om hvor og i hvilke situationer du vil kunne forvente at skulle bruge netop dette sprog.\n",
    "\n",
    "https://github.com/python-elective-kea/IntroPythonSpring2025/blob/main/lessons/about_this_elective.md"
   ]
  },
  {
   "cell_type": "markdown",
   "metadata": {
    "slideshow": {
     "slide_type": "slide"
    }
   },
   "source": [
    "## Semesterplanen\n",
    "\n",
    "* https://github.com/python-elective-kea/IntroPythonSpring2025/tree/main?tab=readme-ov-file#introduktion-til-python-for%C3%A5r-2025"
   ]
  },
  {
   "cell_type": "markdown",
   "metadata": {
    "slideshow": {
     "slide_type": "slide"
    }
   },
   "source": [
    "## Eksamen\n",
    "\n",
    "https://github.com/python-elective-kea/IntroPythonSpring2025/blob/main/lessons/exam.md"
   ]
  }
 ],
 "metadata": {
  "kernelspec": {
   "display_name": ".venv",
   "language": "python",
   "name": "python3"
  },
  "language_info": {
   "codemirror_mode": {
    "name": "ipython",
    "version": 3
   },
   "file_extension": ".py",
   "mimetype": "text/x-python",
   "name": "python",
   "nbconvert_exporter": "python",
   "pygments_lexer": "ipython3",
   "version": "3.11.11"
  }
 },
 "nbformat": 4,
 "nbformat_minor": 2
}
