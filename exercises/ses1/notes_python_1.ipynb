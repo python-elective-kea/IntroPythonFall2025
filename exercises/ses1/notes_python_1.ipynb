{
 "cells": [
  {
   "cell_type": "markdown",
   "metadata": {
    "slideshow": {
     "slide_type": "slide"
    }
   },
   "source": [
    "# Noter til undervisningen (Python dag 1)\n",
    "Dette er mine noter (Claus) til undervisningen."
   ]
  },
  {
   "cell_type": "markdown",
   "metadata": {},
   "source": [
    "## Agenda\n",
    "* Hvad er python hvad skal vi bruge det til?\n",
    "* Installationer\n",
    "* materiale dette semester\n",
    "* Demo\n",
    "* Sttring øvelser - ping/pong"
   ]
  },
  {
   "cell_type": "markdown",
   "metadata": {},
   "source": [
    "##  Hvad er python hvad skal vi bruge det til?"
   ]
  },
  {
   "cell_type": "markdown",
   "metadata": {
    "slideshow": {
     "slide_type": "slide"
    }
   },
   "source": [
    "## Installationer\n",
    "* Python \n",
    "* VsCode\n",
    "* Git\n",
    "\n",
    "### Udviklingsmiljøet\n",
    "* Åben Interpretor\n",
    "* Lav en script.py fil\n",
    "* Lav en notebook.ipynb fil\n",
    "    * vælg et virtuelt environment\n",
    "        * .venv"
   ]
  },
  {
   "cell_type": "markdown",
   "metadata": {
    "slideshow": {
     "slide_type": "slide"
    }
   },
   "source": [
    "### Clone dagens kode"
   ]
  },
  {
   "cell_type": "markdown",
   "metadata": {
    "slideshow": {
     "slide_type": "slide"
    }
   },
   "source": [
    "```\n",
    "git clone https://github.com/ITAKEA/kode_fra_undervisning_e24.git\n",
    "```"
   ]
  },
  {
   "cell_type": "markdown",
   "metadata": {},
   "source": [
    "Dette repositories master branch skal du ikke skrive din egen kode i.    \n",
    "Lav istedet en ny branch til hver undervisningsgang og lav din kode i den branch. "
   ]
  },
  {
   "cell_type": "markdown",
   "metadata": {
    "slideshow": {
     "slide_type": "slide"
    }
   },
   "source": [
    "## Modelering af komplekse systemer\n",
    "* Plat / Krone\n",
    "* Gpt4o"
   ]
  },
  {
   "cell_type": "markdown",
   "metadata": {
    "slideshow": {
     "slide_type": "subslide"
    }
   },
   "source": [
    "#### 1. Tænd / Sluk  (boolean)\n",
    "Det **mest simple system** vi kan lave     \n",
    "Reglerne for dette system er:    \n",
    "    \n",
    "* Hvis 'Tændt' så er det næste 'Slukket'    \n",
    "* Hvis 'Slukket' er det næste 'Tændt'    "
   ]
  },
  {
   "cell_type": "markdown",
   "metadata": {},
   "source": [
    "![](../../_static/img/on_off_manual.gif)"
   ]
  },
  {
   "cell_type": "markdown",
   "metadata": {
    "slideshow": {
     "slide_type": "slide"
    }
   },
   "source": [
    "![](../../_static/img/boolean_datatype.jpg)"
   ]
  },
  {
   "cell_type": "code",
   "execution_count": 9,
   "metadata": {},
   "outputs": [],
   "source": [
    "on = True"
   ]
  },
  {
   "cell_type": "code",
   "execution_count": 13,
   "metadata": {},
   "outputs": [
    {
     "name": "stdout",
     "output_type": "stream",
     "text": [
      "Slukket\n"
     ]
    }
   ],
   "source": [
    "print('Tændt' if on else 'Slukket')\n",
    "on = not on"
   ]
  },
  {
   "cell_type": "code",
   "execution_count": 5,
   "metadata": {},
   "outputs": [
    {
     "data": {
      "text/plain": [
       "bool"
      ]
     },
     "execution_count": 5,
     "metadata": {},
     "output_type": "execute_result"
    }
   ],
   "source": [
    "type(on)"
   ]
  },
  {
   "cell_type": "markdown",
   "metadata": {},
   "source": [
    "**Branching**  if / else / elif"
   ]
  },
  {
   "cell_type": "code",
   "execution_count": 8,
   "metadata": {},
   "outputs": [
    {
     "name": "stdout",
     "output_type": "stream",
     "text": [
      "False\n"
     ]
    }
   ],
   "source": [
    "if on:\n",
    "    on = False\n",
    "else:\n",
    "    on = True\n",
    "\n",
    "print(on)"
   ]
  },
  {
   "cell_type": "markdown",
   "metadata": {},
   "source": [
    "Gennemgå:    \n",
    "    \n",
    "* if / else\n",
    "    * bool check\n",
    "* not\n",
    "* indentering\n",
    "* scope\n",
    "* build in functions\n",
    "    * print()\n",
    "    * type()\n"
   ]
  },
  {
   "cell_type": "markdown",
   "metadata": {},
   "source": [
    "### En talrække (int)\n",
    "et **lidt mere komplekst system**    \n",
    "\n",
    "![](../../_static/img/volume.gif)\n",
    "\n",
    "Reglerne for dette system er: \n",
    "\n",
    "* Vi har heltal fra 0 til 100\n",
    "* vi kan bruge +, - (1) "
   ]
  },
  {
   "cell_type": "markdown",
   "metadata": {},
   "source": [
    "![](../../_static/img/int_datatype.jpg)"
   ]
  },
  {
   "cell_type": "code",
   "execution_count": 12,
   "metadata": {},
   "outputs": [
    {
     "name": "stdout",
     "output_type": "stream",
     "text": [
      "10\n",
      "11\n",
      "10\n"
     ]
    },
    {
     "data": {
      "text/plain": [
       "int"
      ]
     },
     "execution_count": 12,
     "metadata": {},
     "output_type": "execute_result"
    }
   ],
   "source": [
    "num = 10\n",
    "print(num)\n",
    "num = num + 1\n",
    "print(num)\n",
    "num = num - 1\n",
    "print(num)\n",
    "\n",
    "type(num)"
   ]
  },
  {
   "cell_type": "markdown",
   "metadata": {},
   "source": [
    "### Underdeling af tallene (float)\n",
    "Systemet er smule mere komplekst\n",
    "\n",
    "![](../../_static/img/float_datatype.jpg)"
   ]
  },
  {
   "cell_type": "code",
   "execution_count": 8,
   "metadata": {},
   "outputs": [
    {
     "name": "stdout",
     "output_type": "stream",
     "text": [
      "9.6\n"
     ]
    },
    {
     "data": {
      "text/plain": [
       "float"
      ]
     },
     "execution_count": 8,
     "metadata": {},
     "output_type": "execute_result"
    }
   ],
   "source": [
    "num = num / 5\n",
    "print(num)\n",
    "type(num)"
   ]
  },
  {
   "cell_type": "code",
   "execution_count": 9,
   "metadata": {},
   "outputs": [
    {
     "name": "stdout",
     "output_type": "stream",
     "text": [
      "9\n"
     ]
    },
    {
     "data": {
      "text/plain": [
       "int"
      ]
     },
     "execution_count": 9,
     "metadata": {},
     "output_type": "execute_result"
    }
   ],
   "source": [
    "num = int(num) # convert\n",
    "print(num)\n",
    "type(num)\n"
   ]
  },
  {
   "cell_type": "markdown",
   "metadata": {},
   "source": [
    "Gennegå:    \n",
    "\n",
    "* Build in functions\n",
    "    * int()\n",
    "    * bool()\n",
    "    * float()\n",
    "    * print()\n",
    "    * input()\n",
    "    * type()"
   ]
  },
  {
   "cell_type": "markdown",
   "metadata": {},
   "source": [
    "### Beskrivende tekst (str)"
   ]
  },
  {
   "cell_type": "code",
   "execution_count": 10,
   "metadata": {},
   "outputs": [
    {
     "name": "stdout",
     "output_type": "stream",
     "text": [
      "Hej med dig Claus\n"
     ]
    }
   ],
   "source": [
    "name = 'Claus'\n",
    "print('Hej med dig ' + name)"
   ]
  },
  {
   "cell_type": "markdown",
   "metadata": {},
   "source": [
    "### Øvelse: plat eller krone med brugerinput\n",
    "1. Spørg en bruger om han/hun vil starte med plat eller krone.\n",
    "2. Spørg herefter om brugeren vil gå videre eller stoppe.\n",
    "3. Hvis han/hun vil stoppe, skal værdien printes ud og programmet stoppe\n",
    "    * hvis han/hun vil gå videre skal værdien ændres, printes ud og programmet skal stoppe.\n",
    "\n",
    "Brug kun: \n",
    "\n",
    "* datatyper\n",
    "    * bool\n",
    "    * int\n",
    "    * float\n",
    "    * str\n",
    "* build in functions (https://docs.python.org/3/library/functions.html)\n",
    "    * bool()\n",
    "    * int()\n",
    "    * float()\n",
    "    * print()\n",
    "    * input()\n",
    "    * type()\n",
    "* if/else \n",
    "\n",
    "til at løse opgaven."
   ]
  },
  {
   "cell_type": "code",
   "execution_count": null,
   "metadata": {},
   "outputs": [],
   "source": []
  },
  {
   "cell_type": "markdown",
   "metadata": {},
   "source": [
    "## Et mere komplekst program (sequence types)\n",
    "Hvis vi feks. gerne vil tegne en prik på en skærm, eller en rød firkant på et billede, eller som her en vektor i et koordinatsystem, har vi et klart mere komplekst system, og vi har brug for en datastuktur der kan indeholde flere værdier en bare en ad gangen. Til det vil vi matematisk set bruge en vektor, i en programmeringsmæssig sammenhæng vil det være repræsenteret af:     \n",
    "\n",
    "* Lister\n",
    "* Tupler\n",
    "\n",
    "![](../../_static/img/vector1.jpg)"
   ]
  },
  {
   "cell_type": "code",
   "execution_count": 12,
   "metadata": {},
   "outputs": [
    {
     "data": {
      "text/plain": [
       "list"
      ]
     },
     "execution_count": 12,
     "metadata": {},
     "output_type": "execute_result"
    }
   ],
   "source": [
    "vector = [2,3]\n",
    "type(vector)"
   ]
  },
  {
   "cell_type": "code",
   "execution_count": 13,
   "metadata": {},
   "outputs": [
    {
     "data": {
      "text/plain": [
       "tuple"
      ]
     },
     "execution_count": 13,
     "metadata": {},
     "output_type": "execute_result"
    }
   ],
   "source": [
    "vector = (2, 3, 5)\n",
    "type(vector)"
   ]
  },
  {
   "cell_type": "markdown",
   "metadata": {},
   "source": [
    "**index**"
   ]
  },
  {
   "cell_type": "code",
   "execution_count": 14,
   "metadata": {},
   "outputs": [
    {
     "name": "stdout",
     "output_type": "stream",
     "text": [
      "2\n",
      "3\n"
     ]
    }
   ],
   "source": [
    "print(vector[0])\n",
    "print(vector[1])"
   ]
  },
  {
   "cell_type": "code",
   "execution_count": 15,
   "metadata": {},
   "outputs": [
    {
     "name": "stdout",
     "output_type": "stream",
     "text": [
      "5\n"
     ]
    }
   ],
   "source": [
    "print(vector[-1])"
   ]
  },
  {
   "cell_type": "markdown",
   "metadata": {},
   "source": [
    "**slicing**"
   ]
  },
  {
   "cell_type": "code",
   "execution_count": 16,
   "metadata": {},
   "outputs": [
    {
     "data": {
      "text/plain": [
       "(2, 3, 5)"
      ]
     },
     "execution_count": 16,
     "metadata": {},
     "output_type": "execute_result"
    }
   ],
   "source": [
    "vector[0:3]"
   ]
  },
  {
   "cell_type": "markdown",
   "metadata": {},
   "source": [
    "**unpacking**"
   ]
  },
  {
   "cell_type": "code",
   "execution_count": 17,
   "metadata": {},
   "outputs": [
    {
     "data": {
      "text/plain": [
       "(2, 3, 5)"
      ]
     },
     "execution_count": 17,
     "metadata": {},
     "output_type": "execute_result"
    }
   ],
   "source": [
    "x,y,z = vector\n",
    "(x,y,z)"
   ]
  },
  {
   "cell_type": "markdown",
   "metadata": {},
   "source": [
    "**len()**"
   ]
  },
  {
   "cell_type": "code",
   "execution_count": 18,
   "metadata": {},
   "outputs": [
    {
     "data": {
      "text/plain": [
       "3"
      ]
     },
     "execution_count": 18,
     "metadata": {},
     "output_type": "execute_result"
    }
   ],
   "source": [
    "len(vector)"
   ]
  },
  {
   "cell_type": "markdown",
   "metadata": {},
   "source": [
    "**loops**"
   ]
  },
  {
   "cell_type": "code",
   "execution_count": 19,
   "metadata": {},
   "outputs": [
    {
     "name": "stdout",
     "output_type": "stream",
     "text": [
      "2\n",
      "3\n",
      "5\n"
     ]
    }
   ],
   "source": [
    "for i in vector:\n",
    "    print(i) # udføre en handling (bruge en function (handling))"
   ]
  },
  {
   "cell_type": "markdown",
   "metadata": {},
   "source": [
    "#### Tegn en vector"
   ]
  },
  {
   "cell_type": "code",
   "execution_count": 20,
   "metadata": {},
   "outputs": [
    {
     "data": {
      "image/png": "[encoded data removed]",
      "text/plain": [
       "<Figure size 640x480 with 1 Axes>"
      ]
     },
     "metadata": {},
     "output_type": "display_data"
    }
   ],
   "source": [
    "from vector_drawing import draw_vector\n",
    "draw_vector([3,4])"
   ]
  },
  {
   "cell_type": "code",
   "execution_count": 21,
   "metadata": {},
   "outputs": [
    {
     "data": {
      "image/png": "[encoded data removed]",
      "text/plain": [
       "<Figure size 640x480 with 1 Axes>"
      ]
     },
     "metadata": {},
     "output_type": "display_data"
    }
   ],
   "source": [
    "from vector_drawing import draw_3d_vector\n",
    "\n",
    "draw_3d_vector([1, 1, 1])"
   ]
  },
  {
   "cell_type": "markdown",
   "metadata": {},
   "source": [
    "## Billedebehandling med python og vektorer"
   ]
  },
  {
   "cell_type": "markdown",
   "metadata": {},
   "source": [
    "Forestil jer at vi har et billede der ser sådan ud.     \n",
    "Billedet er her forstørret mange gange.     \n",
    "Hver firkant er en pixel, så dette billede består altså af 9 pixels.\n",
    "![](../../_static/img/check_pattern_3_3.png)"
   ]
  },
  {
   "cell_type": "markdown",
   "metadata": {},
   "source": [
    "Vi kan læse dette billede ind i en liste hvor den hvide farve giver os et tal 255, og den sorte et 0. Det giver os en liste der ser sådan ud:    \n",
    "\n",
    "```\n",
    "[[255, 0, 255], [0, 255, 0], [255, 0, 255]]\n",
    "```\n",
    "\n",
    "Så det er altså en liste indeholdende 3 lister."
   ]
  },
  {
   "cell_type": "markdown",
   "metadata": {},
   "source": []
  },
  {
   "cell_type": "markdown",
   "metadata": {},
   "source": [
    "### Andre billeder kunne være: \n",
    "\n",
    "<img src='../../_static/img/vector1.jpg' width=10%>\n",
    "\n",
    "**vecor1.jpg** indeholder 3022 x 2662 pixels, dets Color space er 'RGB'\n",
    "\n",
    "**tiny_checkerboard.png** indeholder 3 x 3 pixels, dets Color Space er 'Gray'"
   ]
  },
  {
   "cell_type": "code",
   "execution_count": 25,
   "metadata": {},
   "outputs": [],
   "source": [
    "import cv2\n",
    "import numpy as np\n",
    "\n",
    "# Load the image\n",
    "img = cv2.imread('../../_static/img/tiny_checkerboard.png')\n",
    "\n",
    "# Step 3: Flatten the image to create a vector\n",
    "image_vector = img.flatten()\n",
    "\n",
    "mod = [i if i == 255 else 150 for i in list(image_vector)]"
   ]
  },
  {
   "cell_type": "markdown",
   "metadata": {},
   "source": [
    "## Funktioner\n",
    "\n",
    "Udfør en handling = kald en function\n",
    "\n",
    "Genemgå:\n",
    "\n",
    "* **f()** har navnet **f** og eksekveres af **()**    \n",
    "* Funktionsværdierne -> y-værdierne -> returværdierne"
   ]
  },
  {
   "cell_type": "markdown",
   "metadata": {},
   "source": [
    "**Liniers ligning**\n",
    "\n",
    "``` \n",
    "    f(x) = ax + b   \n",
    "    \n",
    "    eller:    \n",
    "    \n",
    "    y = ax + b\n",
    "```"
   ]
  },
  {
   "cell_type": "code",
   "execution_count": null,
   "metadata": {},
   "outputs": [],
   "source": [
    "a = 5 # hældning\n",
    "b = 2 # y - skæringspunkt\n",
    "\n",
    "def f(x):\n",
    "    return a*x + b"
   ]
  },
  {
   "cell_type": "code",
   "execution_count": null,
   "metadata": {},
   "outputs": [
    {
     "data": {
      "image/png": "[encoded data removed]",
      "text/plain": [
       "<Figure size 640x480 with 1 Axes>"
      ]
     },
     "metadata": {},
     "output_type": "display_data"
    }
   ],
   "source": [
    "from vector_drawing import draw_line\n",
    "draw_line(f) # variablenavnet f (fra f())"
   ]
  },
  {
   "cell_type": "markdown",
   "metadata": {},
   "source": [
    "## Opsummering"
   ]
  },
  {
   "cell_type": "markdown",
   "metadata": {},
   "source": [
    "**Datatyper:**   \n",
    "\n",
    "* bool\n",
    "* int\n",
    "* float\n",
    "\n",
    "**Sequence typer:**    \n",
    "\n",
    "* str\n",
    "* list\n",
    "* tuple\n",
    "\n",
    "Jo mere kompleks et system (program) er, jo mere komplekse datatyper har man ofte brug for.    \n",
    "\n",
    "Sequence types har det til fælles at de har et **index**.    \n",
    "De kan **slices**.    \n",
    "Den har en **længde (len())**.    \n",
    "Og man kan **iterere** over dem (loop).\n",
    "\n",
    "**Funktioner:**      \n",
    "\n",
    "<u>Funktioner udfører handlinger.</u>\n",
    "\n",
    "* add()\n",
    "\n",
    "Build in functions:\n",
    "\n",
    "* print()\n",
    "* input()\n",
    "* int()\n",
    "* float()\n",
    "* bool()\n",
    "* type()\n",
    "* len()\n",
    "\n",
    "**branching**    \n",
    "\n",
    "* if/else\n",
    "\n",
    "**loops**\n",
    "\n",
    "* for i in vector:"
   ]
  },
  {
   "cell_type": "markdown",
   "metadata": {},
   "source": []
  }
 ],
 "metadata": {
  "kernelspec": {
   "display_name": ".venv",
   "language": "python",
   "name": "python3"
  },
  "language_info": {
   "codemirror_mode": {
    "name": "ipython",
    "version": 3
   },
   "file_extension": ".py",
   "mimetype": "text/x-python",
   "name": "python",
   "nbconvert_exporter": "python",
   "pygments_lexer": "ipython3",
   "version": "3.12.5"
  }
 },
 "nbformat": 4,
 "nbformat_minor": 2
}
