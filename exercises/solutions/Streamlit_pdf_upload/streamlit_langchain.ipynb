{
 "cells": [
  {
   "cell_type": "code",
   "execution_count": 4,
   "metadata": {},
   "outputs": [],
   "source": [
    "#!pip install openai langchain langchain-community chromadb langchain[pdf] tiktoken python-dotenv pypdf streamlit"
   ]
  },
  {
   "cell_type": "code",
   "execution_count": 5,
   "metadata": {},
   "outputs": [],
   "source": [
    "import os\n",
    "from dotenv import load_dotenv\n",
    "\n",
    "load_dotenv()\n",
    "openai_api_key = os.getenv(\"OPENAI_API_KEY\")"
   ]
  },
  {
   "cell_type": "code",
   "execution_count": 7,
   "metadata": {},
   "outputs": [],
   "source": [
    "from langchain.vectorstores import Chroma\n",
    "from langchain.chat_models import ChatOpenAI\n",
    "from langchain.embeddings import OpenAIEmbeddings\n",
    "from langchain.schema.output_parser import StrOutputParser\n",
    "from langchain.document_loaders import PyPDFLoader\n",
    "from langchain.text_splitter import RecursiveCharacterTextSplitter\n",
    "from langchain.schema.runnable import RunnablePassthrough\n",
    "from langchain.prompts import PromptTemplate\n",
    "from langchain.vectorstores.utils import filter_complex_metadata\n",
    "\n",
    "def initialize_model():\n",
    "    \"\"\"Initialize the OpenAI chat model.\"\"\"\n",
    "    return ChatOpenAI(model=\"gpt-4\", temperature=0)\n",
    "\n",
    "def initialize_prompt():\n",
    "    \"\"\"Create and return a prompt template.\"\"\"\n",
    "    return PromptTemplate.from_template(\n",
    "        \"\"\"\n",
    "        <s> [INST] You are an assistant for question-answering tasks. Use the following pieces of retrieved context \n",
    "        to answer the question. If you don't know the answer, just say that you don't know. Use three sentences\n",
    "        maximum and keep the answer concise. [/INST] </s> \n",
    "        [INST] Question: {question} \n",
    "        Context: {context} \n",
    "        Answer: [/INST]\n",
    "        \"\"\"\n",
    "    )\n",
    "\n",
    "def ingest_pdf(pdf_file_path: str):\n",
    "    \"\"\"Ingest a PDF, process it into chunks, and create a retriever.\"\"\"\n",
    "    text_splitter = RecursiveCharacterTextSplitter(chunk_size=1024, chunk_overlap=100)\n",
    "    docs = PyPDFLoader(file_path=pdf_file_path).load()\n",
    "    chunks = text_splitter.split_documents(docs)\n",
    "    chunks = filter_complex_metadata(chunks)\n",
    "\n",
    "    vector_store = Chroma.from_documents(documents=chunks, embedding=OpenAIEmbeddings())\n",
    "    retriever = vector_store.as_retriever(\n",
    "        search_type=\"similarity_score_threshold\",\n",
    "        search_kwargs={\n",
    "            \"k\": 3,\n",
    "            \"score_threshold\": 0.5,\n",
    "        },\n",
    "    )\n",
    "    return retriever\n",
    "\n",
    "def build_chain(retriever, model, prompt):\n",
    "    \"\"\"Build the question-answering chain.\"\"\"\n",
    "    return ({\"context\": retriever, \"question\": RunnablePassthrough()}\n",
    "            | prompt\n",
    "            | model\n",
    "            | StrOutputParser())\n",
    "\n",
    "def ask_question(chain, query: str):\n",
    "    \"\"\"Ask a question using the chain.\"\"\"\n",
    "    if not chain:\n",
    "        return \"Please, add a PDF document first.\"\n",
    "\n",
    "    return chain.invoke(query)\n",
    "\n",
    "def clear_chain():\n",
    "    \"\"\"Clear all components for resetting the system.\"\"\"\n",
    "    return None, None, None"
   ]
  },
  {
   "cell_type": "code",
   "execution_count": null,
   "metadata": {},
   "outputs": [],
   "source": [
    "# Example usage\n",
    "\n",
    "if __name__ == \"__main__\":\n",
    "    # Initialize components\n",
    "    model = initialize_model()\n",
    "    prompt = initialize_prompt()\n",
    "\n",
    "    # Ingest PDF\n",
    "    pdf_file_path = \"example.pdf\"  # Replace with the actual PDF file path\n",
    "    retriever = ingest_pdf(pdf_file_path)\n",
    "\n",
    "    # Build the chain\n",
    "    chain = build_chain(retriever, model, prompt)\n",
    "\n",
    "    # Ask a question\n",
    "    query = \"What is the summary of the document?\"\n",
    "    response = ask_question(chain, query)\n",
    "    print(response)\n",
    "\n",
    "    # Clear the system\n",
    "    retriever, chain, model = clear_chain()\n"
   ]
  },
  {
   "cell_type": "code",
   "execution_count": null,
   "metadata": {},
   "outputs": [
    {
     "name": "stderr",
     "output_type": "stream",
     "text": [
      "2024-12-11 13:52:50.034 Thread 'MainThread': missing ScriptRunContext! This warning can be ignored when running in bare mode.\n",
      "2024-12-11 13:52:50.038 Thread 'MainThread': missing ScriptRunContext! This warning can be ignored when running in bare mode.\n",
      "2024-12-11 13:52:50.039 Thread 'MainThread': missing ScriptRunContext! This warning can be ignored when running in bare mode.\n",
      "2024-12-11 13:52:50.041 Thread 'MainThread': missing ScriptRunContext! This warning can be ignored when running in bare mode.\n",
      "2024-12-11 13:52:50.042 Thread 'MainThread': missing ScriptRunContext! This warning can be ignored when running in bare mode.\n",
      "2024-12-11 13:52:50.042 Thread 'MainThread': missing ScriptRunContext! This warning can be ignored when running in bare mode.\n",
      "2024-12-11 13:52:50.042 Thread 'MainThread': missing ScriptRunContext! This warning can be ignored when running in bare mode.\n",
      "2024-12-11 13:52:50.044 Thread 'MainThread': missing ScriptRunContext! This warning can be ignored when running in bare mode.\n",
      "2024-12-11 13:52:50.044 Thread 'MainThread': missing ScriptRunContext! This warning can be ignored when running in bare mode.\n",
      "2024-12-11 13:52:50.044 Thread 'MainThread': missing ScriptRunContext! This warning can be ignored when running in bare mode.\n",
      "2024-12-11 13:52:50.044 Thread 'MainThread': missing ScriptRunContext! This warning can be ignored when running in bare mode.\n",
      "2024-12-11 13:52:50.045 Thread 'MainThread': missing ScriptRunContext! This warning can be ignored when running in bare mode.\n",
      "2024-12-11 13:52:50.045 Thread 'MainThread': missing ScriptRunContext! This warning can be ignored when running in bare mode.\n",
      "2024-12-11 13:52:50.045 Thread 'MainThread': missing ScriptRunContext! This warning can be ignored when running in bare mode.\n",
      "2024-12-11 13:52:50.045 Thread 'MainThread': missing ScriptRunContext! This warning can be ignored when running in bare mode.\n",
      "2024-12-11 13:52:50.046 Thread 'MainThread': missing ScriptRunContext! This warning can be ignored when running in bare mode.\n",
      "2024-12-11 13:52:50.046 Thread 'MainThread': missing ScriptRunContext! This warning can be ignored when running in bare mode.\n",
      "2024-12-11 13:52:50.046 Thread 'MainThread': missing ScriptRunContext! This warning can be ignored when running in bare mode.\n",
      "2024-12-11 13:52:50.046 Thread 'MainThread': missing ScriptRunContext! This warning can be ignored when running in bare mode.\n",
      "2024-12-11 13:52:50.047 Thread 'MainThread': missing ScriptRunContext! This warning can be ignored when running in bare mode.\n",
      "2024-12-11 13:52:50.047 Thread 'MainThread': missing ScriptRunContext! This warning can be ignored when running in bare mode.\n",
      "2024-12-11 13:52:50.047 Thread 'MainThread': missing ScriptRunContext! This warning can be ignored when running in bare mode.\n",
      "2024-12-11 13:52:50.047 Thread 'MainThread': missing ScriptRunContext! This warning can be ignored when running in bare mode.\n",
      "2024-12-11 13:52:50.048 Thread 'MainThread': missing ScriptRunContext! This warning can be ignored when running in bare mode.\n",
      "2024-12-11 13:52:50.048 Thread 'MainThread': missing ScriptRunContext! This warning can be ignored when running in bare mode.\n",
      "2024-12-11 13:52:50.048 Thread 'MainThread': missing ScriptRunContext! This warning can be ignored when running in bare mode.\n"
     ]
    },
    {
     "ename": "AttributeError",
     "evalue": "module 'streamlit' has no attribute 'run'",
     "output_type": "error",
     "traceback": [
      "\u001b[0;31m---------------------------------------------------------------------------\u001b[0m",
      "\u001b[0;31mAttributeError\u001b[0m                            Traceback (most recent call last)",
      "Cell \u001b[0;32mIn[10], line 86\u001b[0m\n\u001b[1;32m     83\u001b[0m     \u001b[38;5;28;01melse\u001b[39;00m:\n\u001b[1;32m     84\u001b[0m         st\u001b[38;5;241m.\u001b[39merror(\u001b[38;5;124m\"\u001b[39m\u001b[38;5;124mPlease upload a PDF, enter your question, and provide your OpenAI API key.\u001b[39m\u001b[38;5;124m\"\u001b[39m)\n\u001b[0;32m---> 86\u001b[0m \u001b[43mst\u001b[49m\u001b[38;5;241;43m.\u001b[39;49m\u001b[43mrun\u001b[49m()\n",
      "\u001b[0;31mAttributeError\u001b[0m: module 'streamlit' has no attribute 'run'"
     ]
    }
   ],
   "source": []
  },
  {
   "cell_type": "code",
   "execution_count": null,
   "metadata": {},
   "outputs": [
    {
     "name": "stdout",
     "output_type": "stream",
     "text": [
      "Usage: streamlit run [OPTIONS] TARGET [ARGS]...\n",
      "Try 'streamlit run --help' for help.\n",
      "\n",
      "Error: Missing argument 'TARGET'.\n"
     ]
    }
   ],
   "source": []
  },
  {
   "cell_type": "code",
   "execution_count": null,
   "metadata": {},
   "outputs": [],
   "source": []
  }
 ],
 "metadata": {
  "kernelspec": {
   "display_name": ".venv",
   "language": "python",
   "name": "python3"
  },
  "language_info": {
   "codemirror_mode": {
    "name": "ipython",
    "version": 3
   },
   "file_extension": ".py",
   "mimetype": "text/x-python",
   "name": "python",
   "nbconvert_exporter": "python",
   "pygments_lexer": "ipython3",
   "version": "3.11.11"
  }
 },
 "nbformat": 4,
 "nbformat_minor": 2
}
