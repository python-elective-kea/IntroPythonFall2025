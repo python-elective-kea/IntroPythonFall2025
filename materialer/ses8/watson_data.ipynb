{
 "cells": [
  {
   "cell_type": "markdown",
   "metadata": {},
   "source": [
    "# Watson data "
   ]
  },
  {
   "cell_type": "markdown",
   "metadata": {},
   "source": [
    "Generate the data and write it to a file"
   ]
  },
  {
   "cell_type": "code",
   "execution_count": 1,
   "metadata": {},
   "outputs": [],
   "source": [
    "import random\n",
    "import string\n",
    "\n",
    "def generate_watson_test_data(num_tuples=10, tuple_length=4):\n",
    "    data = []\n",
    "    for _ in range(num_tuples):\n",
    "        inner_tuple = tuple(\n",
    "            (\n",
    "                random.choice(string.ascii_uppercase), random.randint(1, 10)) if random.choice([True, False]\n",
    "            ) \n",
    "            else (\n",
    "                    random.randint(1, 10), random.choice(string.ascii_uppercase)\n",
    "                )\n",
    "            for _ in range(tuple_length)\n",
    "        )\n",
    "        data.append(inner_tuple)\n",
    "    return data\n",
    "\n",
    "# Generate sample data\n",
    "watson_test_data = generate_watson_test_data(10, 4)\n",
    "\n",
    "with open('watson_data.py', 'w') as f:\n",
    "    f.write(f'watson_data = {watson_test_data}')"
   ]
  },
  {
   "cell_type": "code",
   "execution_count": null,
   "metadata": {},
   "outputs": [
    {
     "data": {
      "text/plain": [
       "10"
      ]
     },
     "execution_count": 2,
     "metadata": {},
     "output_type": "execute_result"
    }
   ],
   "source": [
    "import watson_data as wd \n",
    "\n",
    "# hvor mange sæt kort er der i filen?\n",
    "len(wd.watson_data)"
   ]
  },
  {
   "cell_type": "code",
   "execution_count": 6,
   "metadata": {},
   "outputs": [
    {
     "data": {
      "text/plain": [
       "[(('L', 7), (7, 'H'), (5, 'H'), (9, 'T')),\n",
       " ((2, 'G'), (7, 'Q'), (7, 'U'), (9, 'I')),\n",
       " ((10, 'G'), (10, 'Z'), (8, 'E'), ('C', 5)),\n",
       " (('Z', 1), ('C', 9), (3, 'P'), ('C', 6)),\n",
       " (('T', 5), ('V', 4), (9, 'J'), (7, 'P')),\n",
       " (('V', 1), (4, 'Q'), ('V', 8), ('R', 4)),\n",
       " ((2, 'R'), ('X', 2), ('L', 10), ('Z', 6)),\n",
       " (('B', 8), (5, 'U'), (5, 'C'), ('A', 8)),\n",
       " (('W', 1), (1, 'E'), (6, 'R'), (4, 'V')),\n",
       " (('F', 4), (1, 'R'), (4, 'G'), (4, 'F'))]"
      ]
     },
     "execution_count": 6,
     "metadata": {},
     "output_type": "execute_result"
    }
   ],
   "source": [
    "wd.watson_data"
   ]
  },
  {
   "cell_type": "code",
   "execution_count": 7,
   "metadata": {},
   "outputs": [
    {
     "name": "stdout",
     "output_type": "stream",
     "text": [
      "('A', 8)\n"
     ]
    }
   ],
   "source": [
    "# I hvor man af sættene der er brug for at vende 1 kort?\n",
    "\n",
    "for i in wd.watson_data:\n",
    "    for j in i:\n",
    "        if j[0] in ['A', 'E', 'I', 'O', 'U']:\n",
    "            print(j)"
   ]
  },
  {
   "cell_type": "code",
   "execution_count": null,
   "metadata": {},
   "outputs": [],
   "source": []
  }
 ],
 "metadata": {
  "kernelspec": {
   "display_name": ".venv",
   "language": "python",
   "name": "python3"
  },
  "language_info": {
   "codemirror_mode": {
    "name": "ipython",
    "version": 3
   },
   "file_extension": ".py",
   "mimetype": "text/x-python",
   "name": "python",
   "nbconvert_exporter": "python",
   "pygments_lexer": "ipython3",
   "version": "3.11.11"
  }
 },
 "nbformat": 4,
 "nbformat_minor": 2
}
