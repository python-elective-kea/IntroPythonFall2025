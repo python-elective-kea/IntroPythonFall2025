{
 "cells": [
  {
   "cell_type": "markdown",
   "metadata": {},
   "source": [
    "# Watson data "
   ]
  },
  {
   "cell_type": "markdown",
   "metadata": {},
   "source": [
    "Generate the data and write it to a file"
   ]
  },
  {
   "cell_type": "code",
   "execution_count": 11,
   "metadata": {},
   "outputs": [
    {
     "ename": "FileNotFoundError",
     "evalue": "[Errno 2] No such file or directory: 'watson_data.py'",
     "output_type": "error",
     "traceback": [
      "\u001b[0;31m---------------------------------------------------------------------------\u001b[0m",
      "\u001b[0;31mFileNotFoundError\u001b[0m                         Traceback (most recent call last)",
      "Cell \u001b[0;32mIn[11], line 22\u001b[0m\n\u001b[1;32m     19\u001b[0m \u001b[38;5;66;03m# Generate sample data\u001b[39;00m\n\u001b[1;32m     20\u001b[0m watson_test_data \u001b[38;5;241m=\u001b[39m generate_watson_test_data(\u001b[38;5;241m108\u001b[39m, \u001b[38;5;241m4\u001b[39m)\n\u001b[0;32m---> 22\u001b[0m \u001b[38;5;28;01mwith\u001b[39;00m \u001b[38;5;28;43mopen\u001b[39;49m\u001b[43m(\u001b[49m\u001b[38;5;124;43m'\u001b[39;49m\u001b[38;5;124;43mwatson_data.py\u001b[39;49m\u001b[38;5;124;43m'\u001b[39;49m\u001b[43m,\u001b[49m\u001b[43m \u001b[49m\u001b[38;5;124;43m'\u001b[39;49m\u001b[38;5;124;43mw\u001b[39;49m\u001b[38;5;124;43m'\u001b[39;49m\u001b[43m)\u001b[49m \u001b[38;5;28;01mas\u001b[39;00m f:\n\u001b[1;32m     23\u001b[0m     f\u001b[38;5;241m.\u001b[39mwrite(\u001b[38;5;124mf\u001b[39m\u001b[38;5;124m'\u001b[39m\u001b[38;5;132;01m{\u001b[39;00mwatson_test_data\u001b[38;5;132;01m}\u001b[39;00m\u001b[38;5;124m'\u001b[39m)\n",
      "File \u001b[0;32m~/Tresors/KEA/python/repos/IntroPythonSpring2025/.venv/lib/python3.11/site-packages/IPython/core/interactiveshell.py:324\u001b[0m, in \u001b[0;36m_modified_open\u001b[0;34m(file, *args, **kwargs)\u001b[0m\n\u001b[1;32m    317\u001b[0m \u001b[38;5;28;01mif\u001b[39;00m file \u001b[38;5;129;01min\u001b[39;00m {\u001b[38;5;241m0\u001b[39m, \u001b[38;5;241m1\u001b[39m, \u001b[38;5;241m2\u001b[39m}:\n\u001b[1;32m    318\u001b[0m     \u001b[38;5;28;01mraise\u001b[39;00m \u001b[38;5;167;01mValueError\u001b[39;00m(\n\u001b[1;32m    319\u001b[0m         \u001b[38;5;124mf\u001b[39m\u001b[38;5;124m\"\u001b[39m\u001b[38;5;124mIPython won\u001b[39m\u001b[38;5;124m'\u001b[39m\u001b[38;5;124mt let you open fd=\u001b[39m\u001b[38;5;132;01m{\u001b[39;00mfile\u001b[38;5;132;01m}\u001b[39;00m\u001b[38;5;124m by default \u001b[39m\u001b[38;5;124m\"\u001b[39m\n\u001b[1;32m    320\u001b[0m         \u001b[38;5;124m\"\u001b[39m\u001b[38;5;124mas it is likely to crash IPython. If you know what you are doing, \u001b[39m\u001b[38;5;124m\"\u001b[39m\n\u001b[1;32m    321\u001b[0m         \u001b[38;5;124m\"\u001b[39m\u001b[38;5;124myou can use builtins\u001b[39m\u001b[38;5;124m'\u001b[39m\u001b[38;5;124m open.\u001b[39m\u001b[38;5;124m\"\u001b[39m\n\u001b[1;32m    322\u001b[0m     )\n\u001b[0;32m--> 324\u001b[0m \u001b[38;5;28;01mreturn\u001b[39;00m \u001b[43mio_open\u001b[49m\u001b[43m(\u001b[49m\u001b[43mfile\u001b[49m\u001b[43m,\u001b[49m\u001b[43m \u001b[49m\u001b[38;5;241;43m*\u001b[39;49m\u001b[43margs\u001b[49m\u001b[43m,\u001b[49m\u001b[43m \u001b[49m\u001b[38;5;241;43m*\u001b[39;49m\u001b[38;5;241;43m*\u001b[39;49m\u001b[43mkwargs\u001b[49m\u001b[43m)\u001b[49m\n",
      "\u001b[0;31mFileNotFoundError\u001b[0m: [Errno 2] No such file or directory: 'watson_data.py'"
     ]
    }
   ],
   "source": [
    "import random\n",
    "import string\n",
    "\n",
    "def generate_watson_test_data(num_tuples=10, tuple_length=4):\n",
    "    data = []\n",
    "    for _ in range(num_tuples):\n",
    "        inner_tuple = tuple(\n",
    "            (\n",
    "                random.choice(string.ascii_uppercase), random.randint(1, 10)) if random.choice([True, False]\n",
    "            ) \n",
    "            else (\n",
    "                    random.randint(1, 10), random.choice(string.ascii_uppercase)\n",
    "                )\n",
    "            for _ in range(tuple_length)\n",
    "        )\n",
    "        data.append(inner_tuple)\n",
    "    return data\n",
    "\n",
    "# Generate sample data\n",
    "watson_test_data = generate_watson_test_data(108, 4)\n",
    "\n",
    "with open('watson_data.py', 'w') as f:\n",
    "    f.write(f'{watson_test_data}')"
   ]
  },
  {
   "cell_type": "code",
   "execution_count": null,
   "metadata": {},
   "outputs": [
    {
     "data": {
      "text/plain": [
       "[((7, 'R'), ('C', 8), ('Z', 10), ('B', 10)),\n",
       " (('Q', 3), (4, 'J'), (1, 'M'), (9, 'T')),\n",
       " (('S', 8), ('Z', 8), ('K', 7), ('G', 3)),\n",
       " ((10, 'Q'), (2, 'X'), (5, 'L'), (8, 'E')),\n",
       " (('I', 8), (9, 'A'), ('K', 1), (6, 'Y')),\n",
       " ((3, 'K'), (4, 'F'), (5, 'R'), (8, 'Y')),\n",
       " (('P', 9), (5, 'X'), (7, 'O'), ('N', 6)),\n",
       " (('C', 5), (5, 'C'), (2, 'T'), (7, 'O')),\n",
       " (('X', 2), ('A', 4), ('I', 7), (1, 'V')),\n",
       " ((10, 'U'), (3, 'M'), (10, 'I'), (8, 'C')),\n",
       " (('B', 1), (8, 'I'), ('E', 9), ('P', 9)),\n",
       " ((6, 'K'), ('Z', 10), ('R', 1), (6, 'O')),\n",
       " ((6, 'R'), ('I', 5), (3, 'U'), (2, 'T')),\n",
       " (('M', 5), (9, 'S'), (3, 'O'), (7, 'Y')),\n",
       " ((8, 'H'), ('L', 6), (3, 'E'), (10, 'F')),\n",
       " (('M', 7), ('X', 6), (8, 'W'), (10, 'I')),\n",
       " ((6, 'Z'), (6, 'W'), (6, 'R'), (10, 'K')),\n",
       " ((7, 'I'), (5, 'J'), (8, 'T'), ('V', 3)),\n",
       " ((9, 'E'), ('S', 4), ('P', 10), (6, 'Q')),\n",
       " (('C', 1), (1, 'Z'), ('V', 4), (7, 'F')),\n",
       " (('X', 9), (4, 'K'), ('U', 8), (7, 'U')),\n",
       " ((1, 'N'), (7, 'W'), (7, 'V'), ('D', 7)),\n",
       " (('P', 4), ('J', 7), ('A', 9), (1, 'Q')),\n",
       " ((8, 'R'), ('T', 8), ('T', 10), ('X', 9)),\n",
       " ((5, 'D'), ('W', 7), ('Q', 1), (1, 'E')),\n",
       " (('B', 4), (9, 'R'), ('G', 2), (7, 'V')),\n",
       " (('D', 4), ('D', 4), (3, 'H'), ('T', 3)),\n",
       " (('G', 4), ('Z', 10), (6, 'E'), (4, 'V')),\n",
       " (('T', 8), ('B', 2), ('P', 1), ('B', 6)),\n",
       " ((9, 'G'), (1, 'U'), ('B', 6), ('V', 1)),\n",
       " (('E', 5), ('L', 5), (1, 'I'), (2, 'N')),\n",
       " ((4, 'B'), (6, 'O'), (7, 'Q'), ('Q', 1)),\n",
       " (('N', 6), ('O', 4), (7, 'T'), ('V', 5)),\n",
       " ((8, 'X'), ('U', 8), (10, 'A'), (3, 'U')),\n",
       " (('N', 10), (9, 'C'), (7, 'G'), ('G', 3)),\n",
       " ((10, 'I'), (6, 'N'), (1, 'I'), (10, 'V')),\n",
       " (('O', 4), (2, 'X'), (1, 'D'), (2, 'M')),\n",
       " ((4, 'U'), (3, 'W'), (8, 'U'), (1, 'M')),\n",
       " ((1, 'L'), (6, 'E'), (2, 'I'), (9, 'J')),\n",
       " (('K', 6), ('T', 10), ('D', 3), ('V', 9)),\n",
       " (('K', 5), (4, 'B'), (9, 'P'), ('N', 7)),\n",
       " ((10, 'E'), (8, 'D'), ('D', 5), ('C', 2)),\n",
       " ((7, 'J'), (10, 'V'), (2, 'C'), ('C', 9)),\n",
       " ((8, 'C'), ('D', 6), (10, 'V'), (1, 'P')),\n",
       " ((5, 'D'), (10, 'F'), (5, 'N'), ('U', 9)),\n",
       " (('G', 8), (8, 'O'), ('J', 8), ('A', 4)),\n",
       " ((5, 'I'), (8, 'Z'), (5, 'D'), ('B', 4)),\n",
       " (('Y', 7), (3, 'R'), (9, 'S'), (1, 'M')),\n",
       " ((1, 'G'), (2, 'F'), (7, 'T'), (1, 'E')),\n",
       " (('Y', 6), ('F', 9), (2, 'K'), ('W', 7)),\n",
       " (('S', 5), ('K', 8), ('S', 3), ('U', 1)),\n",
       " (('U', 9), ('V', 6), ('D', 7), (5, 'K')),\n",
       " (('A', 9), ('D', 7), ('F', 8), (7, 'Q')),\n",
       " ((5, 'C'), (2, 'C'), (8, 'T'), ('T', 10)),\n",
       " ((5, 'W'), ('J', 1), ('N', 5), (5, 'A')),\n",
       " (('M', 8), (9, 'J'), ('R', 2), ('R', 8)),\n",
       " (('P', 7), (5, 'X'), (4, 'L'), (8, 'P')),\n",
       " (('E', 7), (5, 'G'), ('L', 6), (2, 'C')),\n",
       " (('E', 6), (7, 'U'), ('M', 3), (8, 'O')),\n",
       " (('C', 7), ('N', 9), (10, 'B'), ('Y', 6)),\n",
       " (('W', 10), ('I', 8), (10, 'A'), (8, 'Q')),\n",
       " (('A', 2), ('B', 7), ('Y', 10), ('O', 10)),\n",
       " ((9, 'B'), ('Y', 4), (8, 'X'), (5, 'A')),\n",
       " ((5, 'X'), ('F', 8), (9, 'K'), (5, 'N')),\n",
       " (('L', 8), (3, 'U'), ('P', 10), ('P', 1)),\n",
       " (('W', 2), ('V', 3), (8, 'B'), ('Q', 6)),\n",
       " (('J', 4), (6, 'C'), ('Z', 4), ('H', 5)),\n",
       " ((6, 'V'), (9, 'W'), ('L', 10), (8, 'I')),\n",
       " (('D', 10), (8, 'E'), ('N', 4), (2, 'C')),\n",
       " ((8, 'S'), (9, 'B'), ('I', 6), ('F', 7)),\n",
       " ((10, 'L'), (6, 'L'), (10, 'F'), ('F', 2)),\n",
       " (('E', 5), (1, 'Z'), ('S', 6), ('A', 8)),\n",
       " (('A', 8), ('S', 3), ('A', 1), ('A', 9)),\n",
       " (('N', 10), (10, 'X'), ('Q', 9), (1, 'R')),\n",
       " ((3, 'U'), (7, 'U'), (1, 'B'), (2, 'B')),\n",
       " ((7, 'B'), (2, 'C'), ('Z', 8), (5, 'U')),\n",
       " ((6, 'Z'), ('H', 6), (5, 'G'), (6, 'A')),\n",
       " ((6, 'Y'), ('T', 8), ('F', 2), ('Q', 3)),\n",
       " ((5, 'J'), ('I', 4), ('H', 10), (8, 'I')),\n",
       " (('V', 8), ('N', 7), (9, 'I'), ('K', 7)),\n",
       " ((10, 'O'), ('R', 7), (2, 'D'), (9, 'H')),\n",
       " (('A', 2), (7, 'R'), ('A', 2), ('L', 7)),\n",
       " (('Z', 2), ('M', 10), ('C', 8), (4, 'H')),\n",
       " (('V', 7), (3, 'I'), (5, 'O'), (1, 'V')),\n",
       " (('D', 8), (5, 'I'), ('X', 8), ('K', 8)),\n",
       " (('U', 3), ('Q', 10), ('X', 4), (4, 'V')),\n",
       " (('L', 10), (6, 'C'), ('K', 1), ('V', 10)),\n",
       " (('I', 6), (8, 'W'), (2, 'S'), ('Z', 1)),\n",
       " ((5, 'Y'), ('X', 2), (3, 'P'), ('C', 2)),\n",
       " (('D', 10), (7, 'G'), (7, 'E'), ('J', 9)),\n",
       " ((4, 'N'), (6, 'G'), ('G', 10), (9, 'L')),\n",
       " (('N', 4), ('K', 9), ('B', 7), (1, 'S')),\n",
       " (('U', 1), (7, 'U'), ('Z', 10), ('K', 3)),\n",
       " ((7, 'N'), ('D', 9), ('B', 8), (9, 'H')),\n",
       " ((2, 'V'), ('R', 4), (5, 'X'), ('U', 1)),\n",
       " ((1, 'G'), ('V', 5), ('L', 7), ('D', 3)),\n",
       " ((2, 'C'), (3, 'W'), (6, 'U'), (2, 'M')),\n",
       " (('L', 9), ('H', 2), (2, 'K'), (6, 'S')),\n",
       " (('K', 1), (3, 'J'), ('T', 1), (8, 'U')),\n",
       " (('E', 7), ('X', 8), (8, 'C'), (3, 'L')),\n",
       " ((3, 'R'), ('R', 8), ('L', 5), ('R', 9)),\n",
       " ((1, 'T'), (1, 'T'), (3, 'T'), ('G', 6)),\n",
       " ((9, 'N'), ('T', 5), ('O', 6), ('H', 7)),\n",
       " (('Q', 5), (2, 'M'), ('M', 7), ('I', 8)),\n",
       " ((10, 'F'), (7, 'H'), (2, 'D'), (1, 'W')),\n",
       " (('K', 8), ('H', 2), ('Z', 10), ('S', 4)),\n",
       " ((1, 'G'), ('U', 9), (3, 'D'), ('O', 1)),\n",
       " (('E', 9), (3, 'Q'), ('G', 5), ('Z', 7))]"
      ]
     },
     "execution_count": 8,
     "metadata": {},
     "output_type": "execute_result"
    }
   ],
   "source": [
    "#import watson_data as wd \n",
    "\n",
    "import requests\n",
    "res = requests.get('https://raw.githubusercontent.com/python-elective-kea/IntroPythonSpring2025/refs/heads/main/materialer/ses8/watson_data.py')\n",
    "text = res.text\n",
    "data = eval(text)\n",
    "data\n",
    "\n",
    "\n",
    "# hvor mange sæt kort er der i filen?\n",
    "#len(wd.watson_data)"
   ]
  },
  {
   "cell_type": "code",
   "execution_count": null,
   "metadata": {},
   "outputs": [
    {
     "data": {
      "text/plain": [
       "108"
      ]
     },
     "execution_count": 9,
     "metadata": {},
     "output_type": "execute_result"
    }
   ],
   "source": [
    "len(data)"
   ]
  },
  {
   "cell_type": "code",
   "execution_count": null,
   "metadata": {},
   "outputs": [
    {
     "data": {
      "text/plain": [
       "(88,\n",
       " [(7, 'R'),\n",
       "  (1, 'M'),\n",
       "  (5, 'L'),\n",
       "  ('I', 8),\n",
       "  (3, 'K'),\n",
       "  (5, 'X'),\n",
       "  (5, 'C'),\n",
       "  ('A', 4),\n",
       "  (3, 'M'),\n",
       "  ('E', 9),\n",
       "  ('I', 5),\n",
       "  (9, 'S'),\n",
       "  (3, 'E'),\n",
       "  (7, 'I'),\n",
       "  (9, 'E'),\n",
       "  (1, 'Z'),\n",
       "  ('U', 8),\n",
       "  (1, 'N'),\n",
       "  ('A', 9),\n",
       "  (5, 'D'),\n",
       "  (9, 'R'),\n",
       "  (3, 'H'),\n",
       "  (9, 'G'),\n",
       "  ('E', 5),\n",
       "  (7, 'Q'),\n",
       "  ('O', 4),\n",
       "  ('U', 8),\n",
       "  (9, 'C'),\n",
       "  (1, 'I'),\n",
       "  ('O', 4),\n",
       "  (3, 'W'),\n",
       "  (1, 'L'),\n",
       "  (9, 'P'),\n",
       "  (7, 'J'),\n",
       "  (1, 'P'),\n",
       "  (5, 'D'),\n",
       "  ('A', 4),\n",
       "  (5, 'I'),\n",
       "  (3, 'R'),\n",
       "  (1, 'G'),\n",
       "  ('U', 1),\n",
       "  ('U', 9),\n",
       "  ('A', 9),\n",
       "  (5, 'C'),\n",
       "  (5, 'W'),\n",
       "  (9, 'J'),\n",
       "  (5, 'X'),\n",
       "  ('E', 7),\n",
       "  ('E', 6),\n",
       "  ('I', 8),\n",
       "  ('A', 2),\n",
       "  (9, 'B'),\n",
       "  (5, 'X'),\n",
       "  (3, 'U'),\n",
       "  (9, 'W'),\n",
       "  (9, 'B'),\n",
       "  ('E', 5),\n",
       "  ('A', 8),\n",
       "  (1, 'R'),\n",
       "  (3, 'U'),\n",
       "  (7, 'B'),\n",
       "  (5, 'G'),\n",
       "  (5, 'J'),\n",
       "  (9, 'I'),\n",
       "  (9, 'H'),\n",
       "  ('A', 2),\n",
       "  (3, 'I'),\n",
       "  (5, 'I'),\n",
       "  ('U', 3),\n",
       "  ('I', 6),\n",
       "  (5, 'Y'),\n",
       "  (7, 'G'),\n",
       "  (9, 'L'),\n",
       "  (1, 'S'),\n",
       "  ('U', 1),\n",
       "  (7, 'N'),\n",
       "  (5, 'X'),\n",
       "  (1, 'G'),\n",
       "  (3, 'W'),\n",
       "  (3, 'J'),\n",
       "  ('E', 7),\n",
       "  (3, 'R'),\n",
       "  (1, 'T'),\n",
       "  (9, 'N'),\n",
       "  ('I', 8),\n",
       "  (7, 'H'),\n",
       "  (1, 'G'),\n",
       "  ('E', 9)])"
      ]
     },
     "execution_count": 10,
     "metadata": {},
     "output_type": "execute_result"
    }
   ],
   "source": [
    "# I hvor mange af sættene der er brug for at vende et kort?\n",
    "res = []\n",
    "for i in data:\n",
    "    for j in i:\n",
    "        if j[0] in ['A', 'E', 'I', 'O', 'U'] or j[0] in range(1,10,2):\n",
    "            res.append(j)\n",
    "            break\n",
    "        \n",
    "len(res), res"
   ]
  },
  {
   "cell_type": "code",
   "execution_count": null,
   "metadata": {},
   "outputs": [
    {
     "data": {
      "text/plain": [
       "(60,\n",
       " ['x',\n",
       "  'x',\n",
       "  'x',\n",
       "  'x',\n",
       "  'x',\n",
       "  'x',\n",
       "  'x',\n",
       "  'x',\n",
       "  'x',\n",
       "  'x',\n",
       "  'x',\n",
       "  'x',\n",
       "  'x',\n",
       "  'x',\n",
       "  'x',\n",
       "  'x',\n",
       "  'x',\n",
       "  'x',\n",
       "  'x',\n",
       "  'x',\n",
       "  'x',\n",
       "  'x',\n",
       "  'x',\n",
       "  'x',\n",
       "  'x',\n",
       "  'x',\n",
       "  'x',\n",
       "  'x',\n",
       "  'x',\n",
       "  'x',\n",
       "  'x',\n",
       "  'x',\n",
       "  'x',\n",
       "  'x',\n",
       "  'x',\n",
       "  'x',\n",
       "  'x',\n",
       "  'x',\n",
       "  'x',\n",
       "  'x',\n",
       "  'x',\n",
       "  'x',\n",
       "  'x',\n",
       "  'x',\n",
       "  'x',\n",
       "  'x',\n",
       "  'x',\n",
       "  'x',\n",
       "  'x',\n",
       "  'x',\n",
       "  'x',\n",
       "  'x',\n",
       "  'x',\n",
       "  'x',\n",
       "  'x',\n",
       "  'x',\n",
       "  'x',\n",
       "  'x',\n",
       "  'x',\n",
       "  'x'])"
      ]
     },
     "execution_count": 5,
     "metadata": {},
     "output_type": "execute_result"
    }
   ],
   "source": [
    "# I hvor man af sættene der er brug for at vende 2 kort?\n",
    "res = []\n",
    "for i in data:\n",
    "    count = 0\n",
    "    for j in i:\n",
    "        if j[0] in ['A', 'E', 'I', 'O', 'U'] or j[0] in range(1,10,2):\n",
    "            count += 1\n",
    "            if count == 2:\n",
    "                res.append('x')\n",
    "len(res), res\n",
    "\n",
    "#['x' for i in wd.watson_data for j in i if j[0] in ['A', 'E', 'I', 'O', 'U'] or j[0] in range(1,10,2)]\n"
   ]
  },
  {
   "cell_type": "code",
   "execution_count": null,
   "metadata": {},
   "outputs": [
    {
     "data": {
      "text/plain": [
       "(13,\n",
       " [((3, 'C'), (7, 'O'), (9, 'L'), (2, 'W')),\n",
       "  ((10, 'T'), (5, 'B'), (3, 'A'), ('A', 3)),\n",
       "  ((9, 'O'), (1, 'L'), ('D', 8), (5, 'H')),\n",
       "  ((10, 'Y'), (3, 'I'), (3, 'A'), (3, 'T')),\n",
       "  ((3, 'M'), (7, 'Q'), ('I', 7), (9, 'B')),\n",
       "  ((5, 'D'), (10, 'B'), (7, 'G'), (5, 'E')),\n",
       "  (('Z', 5), (7, 'P'), (9, 'B'), ('I', 5)),\n",
       "  ((7, 'C'), (7, 'D'), ('I', 5), ('W', 3)),\n",
       "  (('L', 9), ('E', 5), (7, 'S'), (3, 'F')),\n",
       "  (('C', 3), (3, 'X'), (5, 'T'), (7, 'O')),\n",
       "  ((5, 'D'), (7, 'I'), (1, 'V'), ('G', 7)),\n",
       "  ((7, 'G'), ('M', 2), ('I', 7), (3, 'P')),\n",
       "  (('A', 8), (8, 'W'), (1, 'Z'), (5, 'E'))])"
      ]
     },
     "execution_count": 10,
     "metadata": {},
     "output_type": "execute_result"
    }
   ],
   "source": [
    "# I hvor man af sættene der er brug for at vende 3 kort?\n",
    "res = []\n",
    "for i in data:\n",
    "    count = 0\n",
    "    for j in i:\n",
    "        if j[0] in ['A', 'E', 'I', 'O', 'U'] or j[0] in range(1,10,2):\n",
    "            count += 1\n",
    "            if count == 3:\n",
    "                res.append(i)\n",
    "len(res), res"
   ]
  },
  {
   "cell_type": "code",
   "execution_count": null,
   "metadata": {},
   "outputs": [
    {
     "data": {
      "text/plain": [
       "(1, [((3, 'M'), (7, 'Q'), ('I', 7), (9, 'B'))])"
      ]
     },
     "execution_count": 11,
     "metadata": {},
     "output_type": "execute_result"
    }
   ],
   "source": [
    "# I hvor man af sættene der er brug for at vende 4 kort?\n",
    "res = []\n",
    "for i in data:\n",
    "    count = 0\n",
    "    for j in i:\n",
    "        if j[0] in ['A', 'E', 'I', 'O', 'U'] or j[0] in range(1,10,2):\n",
    "            count += 1\n",
    "            if count == 4:\n",
    "                res.append(i)\n",
    "len(res), res"
   ]
  },
  {
   "cell_type": "code",
   "execution_count": null,
   "metadata": {},
   "outputs": [
    {
     "data": {
      "text/plain": [
       "(4, [(7, 'U'), (9, 'I'), (5, 'U'), (1, 'E')])"
      ]
     },
     "execution_count": 48,
     "metadata": {},
     "output_type": "execute_result"
    }
   ],
   "source": [
    "# Hvor mange set vil fejle testen?\n",
    "res = []\n",
    "for i in data:\n",
    "    for j in i:\n",
    "        if j[0] in ['A', 'E', 'I', 'O', 'U'] and j[1] not in [2,4,6,8] or j[0] in range(1,10,2) and j[1] in ['A', 'E', 'I', 'O', 'U']: \n",
    "            res.append(j)\n",
    "len(res), res"
   ]
  }
 ],
 "metadata": {
  "kernelspec": {
   "display_name": ".venv",
   "language": "python",
   "name": "python3"
  },
  "language_info": {
   "codemirror_mode": {
    "name": "ipython",
    "version": 3
   },
   "file_extension": ".py",
   "mimetype": "text/x-python",
   "name": "python",
   "nbconvert_exporter": "python",
   "pygments_lexer": "ipython3",
   "version": "3.11.11"
  }
 },
 "nbformat": 4,
 "nbformat_minor": 2
}
