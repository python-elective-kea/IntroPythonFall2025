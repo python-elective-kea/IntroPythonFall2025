{
 "cells": [
  {
   "cell_type": "code",
   "execution_count": 3,
   "metadata": {},
   "outputs": [],
   "source": [
    "#!pip install faker"
   ]
  },
  {
   "cell_type": "code",
   "execution_count": 29,
   "metadata": {},
   "outputs": [
    {
     "name": "stdout",
     "output_type": "stream",
     "text": [
      "58.106.108.21 - - [04/Jun/2020:05:01:51 ] \"PUT search/category/app HTTP/1.1\" 404 4557 \"http://example.com/search/category/app\" \"Mozilla/5.0 (Windows NT 11.0) AppleWebKit/532.1 (KHTML, like Gecko) Chrome/59.0.812.0 Safari/532.1\"\n"
     ]
    }
   ],
   "source": [
    "from faker import Faker\n",
    "import random\n",
    "\n",
    "# Initialize Faker\n",
    "fake = Faker()\n",
    "\n",
    "# Define possible HTTP methods and status codes\n",
    "http_methods = [\"GET\", \"POST\", \"PUT\", \"DELETE\", \"HEAD\", \"OPTIONS\"]\n",
    "status_codes = [200, 201, 400, 401, 403, 404, 500, 502, 503]\n",
    "\n",
    "# Define a single domain for the log entries\n",
    "domain = \"example.com\"\n",
    "\n",
    "# Generate a fake Apache log entry\n",
    "def generate_apache_log_entry():\n",
    "    ip_address = fake.ipv4()\n",
    "    client_identity = \"-\"\n",
    "    user_id = \"-\"\n",
    "    timestamp = fake.date_time_this_decade().strftime('%d/%b/%Y:%H:%M:%S %z')\n",
    "    method = random.choice(http_methods)\n",
    "    endpoint = fake.uri_path()  # This will generate paths like /path/to/resource\n",
    "    protocol = \"HTTP/1.1\"\n",
    "    status_code = random.choice(status_codes)\n",
    "    response_size = fake.random_int(min=500, max=5000)\n",
    "    referer = f\"http://{domain}/{endpoint}\"\n",
    "    user_agent = fake.user_agent()\n",
    "\n",
    "    log_entry = f'{ip_address} {client_identity} {user_id} [{timestamp}] \"{method} {endpoint} {protocol}\" {status_code} {response_size} \"{referer}\" \"{user_agent}\"'\n",
    "    return log_entry\n",
    "\n",
    "# Generate and print a log entry\n",
    "print(generate_apache_log_entry())\n"
   ]
  },
  {
   "cell_type": "code",
   "execution_count": null,
   "metadata": {},
   "outputs": [],
   "source": []
  },
  {
   "cell_type": "code",
   "execution_count": null,
   "metadata": {},
   "outputs": [],
   "source": []
  },
  {
   "cell_type": "markdown",
   "metadata": {},
   "source": [
    "## Whatson test data"
   ]
  },
  {
   "cell_type": "code",
   "execution_count": null,
   "metadata": {},
   "outputs": [],
   "source": [
    "\n",
    "\n",
    "\n"
   ]
  },
  {
   "cell_type": "code",
   "execution_count": 1,
   "metadata": {},
   "outputs": [
    {
     "data": {
      "text/plain": [
       "[2, 4, 6]"
      ]
     },
     "execution_count": 1,
     "metadata": {},
     "output_type": "execute_result"
    }
   ],
   "source": [
    "def filter_even(numbers):\n",
    "    return [i for i in numbers if i%2==0]\n",
    "\n",
    "filter_even([1, 2, 3, 4, 5, 6])\n"
   ]
  }
 ],
 "metadata": {
  "kernelspec": {
   "display_name": ".venv",
   "language": "python",
   "name": "python3"
  },
  "language_info": {
   "codemirror_mode": {
    "name": "ipython",
    "version": 3
   },
   "file_extension": ".py",
   "mimetype": "text/x-python",
   "name": "python",
   "nbconvert_exporter": "python",
   "pygments_lexer": "ipython3",
   "version": "3.11.11"
  }
 },
 "nbformat": 4,
 "nbformat_minor": 2
}
