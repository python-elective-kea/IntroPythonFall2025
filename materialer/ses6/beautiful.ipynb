{
 "cells": [
  {
   "cell_type": "markdown",
   "metadata": {},
   "source": [
    "# Beautiful Soup eksempel"
   ]
  },
  {
   "cell_type": "code",
   "execution_count": 5,
   "metadata": {},
   "outputs": [],
   "source": [
    "from bs4 import BeautifulSoup, SoupStrainer\n",
    "import requests"
   ]
  },
  {
   "cell_type": "code",
   "execution_count": 11,
   "metadata": {},
   "outputs": [],
   "source": [
    "strainer = SoupStrainer(\"h3\")"
   ]
  },
  {
   "cell_type": "code",
   "execution_count": 12,
   "metadata": {},
   "outputs": [],
   "source": [
    "html = requests.get('https://kea.dk')"
   ]
  },
  {
   "cell_type": "code",
   "execution_count": 16,
   "metadata": {},
   "outputs": [],
   "source": [
    "soup = BeautifulSoup(html.text, \"html.parser\", parse_only=strainer)"
   ]
  },
  {
   "cell_type": "code",
   "execution_count": 17,
   "metadata": {},
   "outputs": [
    {
     "data": {
      "text/plain": [
       "<h3>Vi bruger cookies på Københavns Erhvervsakademi</h3><h3>Uddannelser på KEA</h3><h3>Vejledning og ansøgning</h3><h3>Vælg efter interesse</h3><h3>Livet på KEA</h3><h3>Mød os</h3><h3>Vælg efter interesse</h3><h3>Kurser og efteruddannelser</h3><h3>Kurser for ledige</h3><h3>Inspiration og guides</h3><h3>Vejledning og ansøgning</h3><h3>Forskning på KEA</h3><h3>Erhvervssamarbejde</h3><h3>Samarbejde med studerende</h3><h3>Vidensdeling</h3><h3>Aktuelt og presse</h3><h3>Organisation og strategi</h3><h3>Praktisk information</h3><h3 class=\"news-title\">\n",
       "\t\tBæredygtige smykker til ikonisk modehus\t</h3><h3 class=\"news-title\">\n",
       "\t\tLavere ledighed på uddannelser i København\t</h3><h3 class=\"news-title\">\n",
       "\t\tFællesskabet fik Amanda til at læse videre\t</h3><h3 class=\"news-title\">\n",
       "\t\tDesign som modstand: Hvordan snekugler og voksfigurer udfordrede Danmarks corona-politik\t</h3><h3 class=\"news-title\">Webinar: Er du nysgerrig på systemudvikling og AI?</h3><h3 class=\"news-title\">Webinar: Lær at lave en hjemmeside på 30 minutter</h3><h3 class=\"news-title\">Gratis gå-hjem-møde: Bliv klar til de nye lovkrav om gnistdetektorer</h3>"
      ]
     },
     "execution_count": 17,
     "metadata": {},
     "output_type": "execute_result"
    }
   ],
   "source": [
    "soup"
   ]
  },
  {
   "cell_type": "code",
   "execution_count": null,
   "metadata": {},
   "outputs": [],
   "source": []
  }
 ],
 "metadata": {
  "kernelspec": {
   "display_name": ".venv",
   "language": "python",
   "name": "python3"
  },
  "language_info": {
   "codemirror_mode": {
    "name": "ipython",
    "version": 3
   },
   "file_extension": ".py",
   "mimetype": "text/x-python",
   "name": "python",
   "nbconvert_exporter": "python",
   "pygments_lexer": "ipython3",
   "version": "3.11.11"
  }
 },
 "nbformat": 4,
 "nbformat_minor": 2
}
