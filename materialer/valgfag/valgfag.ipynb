{
 "cells": [
  {
   "cell_type": "markdown",
   "metadata": {},
   "source": [
    " # Introduktion til Python\n",
    "![](../../assets/barcode_valgfag.gif)"
   ]
  },
  {
   "cell_type": "markdown",
   "metadata": {},
   "source": [
    "## Hvad kan du forvente dig af dette valgfag"
   ]
  },
  {
   "cell_type": "markdown",
   "metadata": {},
   "source": [
    "Du vil lære at bruge python som programmeringssprog. Vi starter fra helt bunden og ender med meget svære emner som Datamodel, Generators, Decorators og Context managers.\n",
    "\n",
    "Der bliver fokus på at lave små øvelser, men ikke nogen større applikationer du vil kunne sælge eller vise til verden. \n",
    "\n",
    "Valgfaget er for dig som bliver inspireret af detaljerne i programmering, og som måske ikke nødvendigvis er super fokuseret på at lave applikationer som du eller andre kan tjene penge på.\n",
    "\n",
    "Mit fokus (Claus) er på at emnerne for mig er super interessante i sig selv, og jeg harder ud over meget lidt fokus på hvad de ellers kan bruges til. Det vil jeg gerne give videre til jer.\n",
    "\n",
    "Så med andre ord, emnerne og indholdet i selve undervisningen er ret nørdet.\n",
    "\n",
    "Du skal forvente at bruge 13 timer ugentligt på dette valgfag, så det er ikke bare et \"python er super nemt, jeg kigger lige lidt på materialet inden eksamen, og så er 12 tallet hjemme\" - fag :)"
   ]
  },
  {
   "cell_type": "markdown",
   "metadata": {},
   "source": [
    "### Inden du beslutter dig\n",
    "Inden du beslutter dig for om det er dette valgfag er noget for dig skal du: \n",
    "\n",
    "1. Se lidt af videoen:[![](../../assets/python_expert.png)](https://youtu.be/7lmCu8wz8ro?si=-bnqLjP_XAWOL2Sm&t=276)   \n",
    "    * Det han snakker kommer vi igennem dette semester. \n",
    "    * Hvis det ikke er interessant, skal du overveje at vælge et andet valgfag.\n",
    "2. På denne side kan du se emnerne for hele semesteret. Kig på denne oversigt.\n",
    "3. De første 3-4 lektioner er der allerede materiale til. klik på linkene i øversigten og dan dig et overblik over hvordan en typisk lektion ser ud.\n",
    "4. Læs siderne \n",
    "    * [Eksamen](../../lessons/exam.md)\n",
    "    * [Om dette valgfag](../../lessons/about_this_elective.md)"
   ]
  },
  {
   "cell_type": "markdown",
   "metadata": {},
   "source": [
    "### Hvis din forventning til valgfaget er noget ala dette:"
   ]
  },
  {
   "cell_type": "markdown",
   "metadata": {},
   "source": [
    "![](../../assets/mistral_flask.png)"
   ]
  },
  {
   "cell_type": "markdown",
   "metadata": {},
   "source": [
    "Så bliver du skuffet!    \n",
    "Fokus i dette valgfag er ikke at kunne prototype i en fart, det er en udemærkede ting at kunne, men det er ikke hvad vi gør i dette valgfag.     \n",
    "Så hvis det er dinn forventning er det bedre at bruge 14 dage på en online tutorial, og så ellers bare derudaf! "
   ]
  },
  {
   "cell_type": "markdown",
   "metadata": {},
   "source": [
    "[![](../../assets/python_expert.png)](https://youtu.be/7lmCu8wz8ro?si=-bnqLjP_XAWOL2Sm&t=276)"
   ]
  }
 ],
 "metadata": {
  "language_info": {
   "name": "python"
  }
 },
 "nbformat": 4,
 "nbformat_minor": 2
}
