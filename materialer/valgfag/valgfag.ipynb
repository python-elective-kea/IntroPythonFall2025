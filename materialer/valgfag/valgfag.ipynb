{
 "cells": [
  {
   "cell_type": "markdown",
   "metadata": {},
   "source": [
    "# For dig der overrvejer at vælge dette valgfag"
   ]
  },
  {
   "cell_type": "markdown",
   "metadata": {},
   "source": [
    "## Hvad kan du forvente dig af dette valgfag"
   ]
  },
  {
   "cell_type": "markdown",
   "metadata": {},
   "source": [
    "Hvis din forventning til dette valgfag er at du vil lære python på et overordnet begynder niveau, hvor du feks vil kunne bruge sproget til at lave \"hurtig kode\", eller \"brug og smid væk kode\", hvor  som feks. et JSON API\n",
    "\n",
    "Eller du evt. bare vil kunne forstå den kode du får genereret af ChatGpt og vide hvordan du bedst copy/paster disse kode stumper ind i en fil og herefter har en kørende app lavet på 10 minutter.\n",
    "\n",
    "Så vil dette valgfag skuffe dig meget. Det er et valgfag (som alle de andre valgfag) kræver at du bruger tid på det (13 timer om ugen, for at være helt præcis), og det kræver ikke mindst at du "
   ]
  },
  {
   "cell_type": "markdown",
   "metadata": {},
   "source": [
    "## What Does It Take To Be An Expert At Python?\n",
    "Hvis du vil have en lidt bedre ide om hvad dette valgfag handler om kan det være en god ide at bruge et par minutter på at se denne video. Emnerne svarer meget godt til det vi ender med at have været igennem i valgfaget. Det er meget svært stof, men hvis du bliver fanget af videoen er valgfaget sikkert lige præcis hvad du har brug for. Hvis du ikke bliver \"fanget\", så vælg et andet valgfag der passer bedre til dine ønsker og motivation."
   ]
  },
  {
   "cell_type": "markdown",
   "metadata": {},
   "source": [
    "[![](../../assets/python_expert.png)](https://youtu.be/7lmCu8wz8ro?si=-bnqLjP_XAWOL2Sm&t=276)"
   ]
  },
  {
   "cell_type": "markdown",
   "metadata": {},
   "source": [
    "## Hvad er dette valgfag ikke"
   ]
  },
  {
   "cell_type": "markdown",
   "metadata": {},
   "source": [
    "![](../../assets/mistral_flask.png)"
   ]
  },
  {
   "cell_type": "markdown",
   "metadata": {},
   "source": []
  }
 ],
 "metadata": {
  "language_info": {
   "name": "python"
  }
 },
 "nbformat": 4,
 "nbformat_minor": 2
}
