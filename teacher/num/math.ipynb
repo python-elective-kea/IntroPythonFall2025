{
 "cells": [
  {
   "cell_type": "markdown",
   "metadata": {},
   "source": [
    "# Cosine similarity\n",
    "I denne øvelse skal i arbejde med **embeddings**. Det kan være OpenAI´s som vi har gjort tidligere i dette fag, eller en anden udbyder. \n",
    "\n",
    "Programmet skal kunne sende 2 ord eller sætninger til OpenAI og få en vektor tilbage som svarer til en repræsentation af det ord eller sætning i har skrevet. Dette svarer til hvad vi har lavet i session 5.    \n",
    "\n",
    "I skal herefter lave en cosinus sammenligning mellem de to vektorer. Resultatet kan være mellem -1 og 1, og beskriver vinklen mellem de 2 vektorer. Hvis resultetet er 1, er vinklen $0^0§, og de 2 vektoerer er hermed ens. Hvis resultetet er 0 er vinklen $90^0$, Hvis resultatet er -1 er vinklen $180^0$ og beskriver hermed den mindst muligt sammenligneligt.    \n",
    "\n",
    "Formlerne til at beregne \"cosine simularity\" kan i se herunder.    \n",
    "\n",
    "I skal selvfølgelig bruge **numpy** til denne øvelse."
   ]
  },
  {
   "cell_type": "markdown",
   "metadata": {},
   "source": [
    "### Formler\n",
    "\n",
    "dot product\n",
    "\n",
    "$ u⋅v= u_x \\cdot v_x + u_y \\cdot v_y $\n",
    "\n",
    "norm\n",
    "\n",
    "$ ∥u∥ = \\sqrt{u_x^2 + u_y^2} $\n",
    "\n",
    "cosine similarity\n",
    "\n",
    "$ \\cos(\\theta) = \\frac{\\mathbf{u} \\cdot \\mathbf{v}}{\\| \\mathbf{u} \\| \\cdot \\| \\mathbf{v} \\|} $\n"
   ]
  },
  {
   "cell_type": "code",
   "execution_count": 1,
   "metadata": {},
   "outputs": [],
   "source": [
    "import embeddings"
   ]
  },
  {
   "cell_type": "code",
   "execution_count": 5,
   "metadata": {},
   "outputs": [
    {
     "data": {
      "text/plain": [
       "{'Cosine Similarity:': 0.6997725038738409}"
      ]
     },
     "execution_count": 6,
     "metadata": {},
     "output_type": "execute_result"
    }
   ],
   "source": [
    "import numpy as np\n",
    "\n",
    "# Definer vectorene\n",
    "u = np.array(embeddings.hamlet)\n",
    "v = np.array(embeddings.spelt)\n",
    "\n",
    "#udregn dot produktet \n",
    "dot_product = u @ v #np.dot(u, v)\n",
    "\n",
    "# Udregng vectorenes udstrækning, længde, vektornorm (magnitude, length, norm)  \n",
    "norm_u = np.linalg.norm(u)\n",
    "norm_v = np.linalg.norm(v)\n",
    "\n",
    "# cosine similarity\n",
    "cosine_similarity = dot_product / (norm_u * norm_v)\n",
    "\n",
    "{\"Cosine Similarity:\" : cosine_similarity}\n"
   ]
  },
  {
   "cell_type": "code",
   "execution_count": null,
   "metadata": {},
   "outputs": [],
   "source": []
  }
 ],
 "metadata": {
  "kernelspec": {
   "display_name": ".venv",
   "language": "python",
   "name": "python3"
  },
  "language_info": {
   "codemirror_mode": {
    "name": "ipython",
    "version": 3
   },
   "file_extension": ".py",
   "mimetype": "text/x-python",
   "name": "python",
   "nbconvert_exporter": "python",
   "pygments_lexer": "ipython3",
   "version": "3.11.11"
  }
 },
 "nbformat": 4,
 "nbformat_minor": 2
}
